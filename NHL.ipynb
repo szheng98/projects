{
 "cells": [
  {
   "cell_type": "code",
   "execution_count": 4,
   "metadata": {},
   "outputs": [],
   "source": [
    "import pandas as pd\n",
    "import numpy as np"
   ]
  },
  {
   "cell_type": "code",
   "execution_count": 5,
   "metadata": {},
   "outputs": [
    {
     "name": "stdout",
     "output_type": "stream",
     "text": [
      "          game_id  team_id   HoA    won settled_in        head_coach  goals  \\\n",
      "0      2011030221        1  away  False         OT      Peter DeBoer      3   \n",
      "1      2011030221        4  home   True         OT  Peter Laviolette      4   \n",
      "2      2011030222        1  away   True        REG      Peter DeBoer      4   \n",
      "3      2011030222        4  home  False        REG  Peter Laviolette      1   \n",
      "4      2011030223        4  away  False         OT  Peter Laviolette      3   \n",
      "...           ...      ...   ...    ...        ...               ...    ...   \n",
      "22863  2018030415        6  home  False        REG     Bruce Cassidy      1   \n",
      "22864  2018030416        6  away   True        REG     Bruce Cassidy      5   \n",
      "22865  2018030416       19  home  False        REG      Craig Berube      1   \n",
      "22866  2018030417       19  away   True        REG      Craig Berube      4   \n",
      "22867  2018030417        6  home  False        REG     Bruce Cassidy      1   \n",
      "\n",
      "       shots  hits  pim  powerPlayOpportunities  powerPlayGoals  \\\n",
      "0         26    31   12                       3               1   \n",
      "1         36    27    6                       6               1   \n",
      "2         35    32   12                       4               0   \n",
      "3         20    24   32                       5               0   \n",
      "4         28    28    4                       5               1   \n",
      "...      ...   ...  ...                     ...             ...   \n",
      "22863     39    43    2                       3               0   \n",
      "22864     32    27   10                       4               1   \n",
      "22865     29    29   20                       4               0   \n",
      "22866     20    36    2                       0               0   \n",
      "22867     33    28    0                       1               0   \n",
      "\n",
      "       faceOffWinPercentage  giveaways  takeaways  \n",
      "0                      44.9          6          7  \n",
      "1                      55.1         13          4  \n",
      "2                      50.9          8          7  \n",
      "3                      49.1          9          6  \n",
      "4                      50.8          2          1  \n",
      "...                     ...        ...        ...  \n",
      "22863                  40.6          4         11  \n",
      "22864                  41.3          4         10  \n",
      "22865                  58.7         12         11  \n",
      "22866                  49.0          7          8  \n",
      "22867                  51.0         13          6  \n",
      "\n",
      "[22868 rows x 15 columns]\n"
     ]
    }
   ],
   "source": [
    "df = pd.read_csv('/Users/samanthazheng/Desktop/nhl-game-data/game_teams_stats.csv')\n",
    "print(df)"
   ]
  },
  {
   "cell_type": "markdown",
   "metadata": {},
   "source": [
    "## Data Manipulation"
   ]
  },
  {
   "cell_type": "code",
   "execution_count": 6,
   "metadata": {},
   "outputs": [],
   "source": [
    "df['HoA'] = df['HoA'].map(dict(home=1, away=0))\n",
    "df['won'] = df['won'].astype(int)\n",
    "df['settled_in'] = df['settled_in'].map(dict(REG=1, OT=0))"
   ]
  },
  {
   "cell_type": "code",
   "execution_count": 7,
   "metadata": {},
   "outputs": [],
   "source": [
    "df = df.drop(columns=[\"game_id\", \"team_id\", \"head_coach\"])"
   ]
  },
  {
   "cell_type": "code",
   "execution_count": 8,
   "metadata": {},
   "outputs": [
    {
     "data": {
      "text/plain": [
       "HoA                         int64\n",
       "won                         int64\n",
       "settled_in                float64\n",
       "goals                       int64\n",
       "shots                       int64\n",
       "hits                        int64\n",
       "pim                         int64\n",
       "powerPlayOpportunities      int64\n",
       "powerPlayGoals              int64\n",
       "faceOffWinPercentage      float64\n",
       "giveaways                   int64\n",
       "takeaways                   int64\n",
       "dtype: object"
      ]
     },
     "execution_count": 8,
     "metadata": {},
     "output_type": "execute_result"
    }
   ],
   "source": [
    "df.dtypes"
   ]
  },
  {
   "cell_type": "code",
   "execution_count": 9,
   "metadata": {},
   "outputs": [],
   "source": [
    "df.rename(\n",
    "    columns={\n",
    "        \"HoA\": \"home\",\n",
    "        \"settled_in\": \"reg_game\",\n",
    "        \"won\": \"win\"\n",
    "    },\n",
    "    inplace=True\n",
    ")"
   ]
  },
  {
   "cell_type": "code",
   "execution_count": 10,
   "metadata": {},
   "outputs": [
    {
     "data": {
      "text/html": [
       "<div>\n",
       "<style scoped>\n",
       "    .dataframe tbody tr th:only-of-type {\n",
       "        vertical-align: middle;\n",
       "    }\n",
       "\n",
       "    .dataframe tbody tr th {\n",
       "        vertical-align: top;\n",
       "    }\n",
       "\n",
       "    .dataframe thead th {\n",
       "        text-align: right;\n",
       "    }\n",
       "</style>\n",
       "<table border=\"1\" class=\"dataframe\">\n",
       "  <thead>\n",
       "    <tr style=\"text-align: right;\">\n",
       "      <th></th>\n",
       "      <th>win</th>\n",
       "      <th>home</th>\n",
       "      <th>reg_game</th>\n",
       "      <th>goals</th>\n",
       "      <th>shots</th>\n",
       "      <th>hits</th>\n",
       "      <th>pim</th>\n",
       "      <th>powerPlayOpportunities</th>\n",
       "      <th>powerPlayGoals</th>\n",
       "      <th>faceOffWinPercentage</th>\n",
       "      <th>giveaways</th>\n",
       "      <th>takeaways</th>\n",
       "    </tr>\n",
       "  </thead>\n",
       "  <tbody>\n",
       "    <tr>\n",
       "      <td>0</td>\n",
       "      <td>0</td>\n",
       "      <td>0</td>\n",
       "      <td>0.0</td>\n",
       "      <td>3</td>\n",
       "      <td>26</td>\n",
       "      <td>31</td>\n",
       "      <td>12</td>\n",
       "      <td>3</td>\n",
       "      <td>1</td>\n",
       "      <td>44.9</td>\n",
       "      <td>6</td>\n",
       "      <td>7</td>\n",
       "    </tr>\n",
       "    <tr>\n",
       "      <td>1</td>\n",
       "      <td>1</td>\n",
       "      <td>1</td>\n",
       "      <td>0.0</td>\n",
       "      <td>4</td>\n",
       "      <td>36</td>\n",
       "      <td>27</td>\n",
       "      <td>6</td>\n",
       "      <td>6</td>\n",
       "      <td>1</td>\n",
       "      <td>55.1</td>\n",
       "      <td>13</td>\n",
       "      <td>4</td>\n",
       "    </tr>\n",
       "    <tr>\n",
       "      <td>2</td>\n",
       "      <td>1</td>\n",
       "      <td>0</td>\n",
       "      <td>1.0</td>\n",
       "      <td>4</td>\n",
       "      <td>35</td>\n",
       "      <td>32</td>\n",
       "      <td>12</td>\n",
       "      <td>4</td>\n",
       "      <td>0</td>\n",
       "      <td>50.9</td>\n",
       "      <td>8</td>\n",
       "      <td>7</td>\n",
       "    </tr>\n",
       "    <tr>\n",
       "      <td>3</td>\n",
       "      <td>0</td>\n",
       "      <td>1</td>\n",
       "      <td>1.0</td>\n",
       "      <td>1</td>\n",
       "      <td>20</td>\n",
       "      <td>24</td>\n",
       "      <td>32</td>\n",
       "      <td>5</td>\n",
       "      <td>0</td>\n",
       "      <td>49.1</td>\n",
       "      <td>9</td>\n",
       "      <td>6</td>\n",
       "    </tr>\n",
       "    <tr>\n",
       "      <td>4</td>\n",
       "      <td>0</td>\n",
       "      <td>0</td>\n",
       "      <td>0.0</td>\n",
       "      <td>3</td>\n",
       "      <td>28</td>\n",
       "      <td>28</td>\n",
       "      <td>4</td>\n",
       "      <td>5</td>\n",
       "      <td>1</td>\n",
       "      <td>50.8</td>\n",
       "      <td>2</td>\n",
       "      <td>1</td>\n",
       "    </tr>\n",
       "    <tr>\n",
       "      <td>...</td>\n",
       "      <td>...</td>\n",
       "      <td>...</td>\n",
       "      <td>...</td>\n",
       "      <td>...</td>\n",
       "      <td>...</td>\n",
       "      <td>...</td>\n",
       "      <td>...</td>\n",
       "      <td>...</td>\n",
       "      <td>...</td>\n",
       "      <td>...</td>\n",
       "      <td>...</td>\n",
       "      <td>...</td>\n",
       "    </tr>\n",
       "    <tr>\n",
       "      <td>22863</td>\n",
       "      <td>0</td>\n",
       "      <td>1</td>\n",
       "      <td>1.0</td>\n",
       "      <td>1</td>\n",
       "      <td>39</td>\n",
       "      <td>43</td>\n",
       "      <td>2</td>\n",
       "      <td>3</td>\n",
       "      <td>0</td>\n",
       "      <td>40.6</td>\n",
       "      <td>4</td>\n",
       "      <td>11</td>\n",
       "    </tr>\n",
       "    <tr>\n",
       "      <td>22864</td>\n",
       "      <td>1</td>\n",
       "      <td>0</td>\n",
       "      <td>1.0</td>\n",
       "      <td>5</td>\n",
       "      <td>32</td>\n",
       "      <td>27</td>\n",
       "      <td>10</td>\n",
       "      <td>4</td>\n",
       "      <td>1</td>\n",
       "      <td>41.3</td>\n",
       "      <td>4</td>\n",
       "      <td>10</td>\n",
       "    </tr>\n",
       "    <tr>\n",
       "      <td>22865</td>\n",
       "      <td>0</td>\n",
       "      <td>1</td>\n",
       "      <td>1.0</td>\n",
       "      <td>1</td>\n",
       "      <td>29</td>\n",
       "      <td>29</td>\n",
       "      <td>20</td>\n",
       "      <td>4</td>\n",
       "      <td>0</td>\n",
       "      <td>58.7</td>\n",
       "      <td>12</td>\n",
       "      <td>11</td>\n",
       "    </tr>\n",
       "    <tr>\n",
       "      <td>22866</td>\n",
       "      <td>1</td>\n",
       "      <td>0</td>\n",
       "      <td>1.0</td>\n",
       "      <td>4</td>\n",
       "      <td>20</td>\n",
       "      <td>36</td>\n",
       "      <td>2</td>\n",
       "      <td>0</td>\n",
       "      <td>0</td>\n",
       "      <td>49.0</td>\n",
       "      <td>7</td>\n",
       "      <td>8</td>\n",
       "    </tr>\n",
       "    <tr>\n",
       "      <td>22867</td>\n",
       "      <td>0</td>\n",
       "      <td>1</td>\n",
       "      <td>1.0</td>\n",
       "      <td>1</td>\n",
       "      <td>33</td>\n",
       "      <td>28</td>\n",
       "      <td>0</td>\n",
       "      <td>1</td>\n",
       "      <td>0</td>\n",
       "      <td>51.0</td>\n",
       "      <td>13</td>\n",
       "      <td>6</td>\n",
       "    </tr>\n",
       "  </tbody>\n",
       "</table>\n",
       "<p>22868 rows × 12 columns</p>\n",
       "</div>"
      ],
      "text/plain": [
       "       win  home  reg_game  goals  shots  hits  pim  powerPlayOpportunities  \\\n",
       "0        0     0       0.0      3     26    31   12                       3   \n",
       "1        1     1       0.0      4     36    27    6                       6   \n",
       "2        1     0       1.0      4     35    32   12                       4   \n",
       "3        0     1       1.0      1     20    24   32                       5   \n",
       "4        0     0       0.0      3     28    28    4                       5   \n",
       "...    ...   ...       ...    ...    ...   ...  ...                     ...   \n",
       "22863    0     1       1.0      1     39    43    2                       3   \n",
       "22864    1     0       1.0      5     32    27   10                       4   \n",
       "22865    0     1       1.0      1     29    29   20                       4   \n",
       "22866    1     0       1.0      4     20    36    2                       0   \n",
       "22867    0     1       1.0      1     33    28    0                       1   \n",
       "\n",
       "       powerPlayGoals  faceOffWinPercentage  giveaways  takeaways  \n",
       "0                   1                  44.9          6          7  \n",
       "1                   1                  55.1         13          4  \n",
       "2                   0                  50.9          8          7  \n",
       "3                   0                  49.1          9          6  \n",
       "4                   1                  50.8          2          1  \n",
       "...               ...                   ...        ...        ...  \n",
       "22863               0                  40.6          4         11  \n",
       "22864               1                  41.3          4         10  \n",
       "22865               0                  58.7         12         11  \n",
       "22866               0                  49.0          7          8  \n",
       "22867               0                  51.0         13          6  \n",
       "\n",
       "[22868 rows x 12 columns]"
      ]
     },
     "execution_count": 10,
     "metadata": {},
     "output_type": "execute_result"
    }
   ],
   "source": [
    "win = df['win']\n",
    "df.drop(labels=['win'], axis=1,inplace = True)\n",
    "df.insert(0, 'win', win)\n",
    "df"
   ]
  },
  {
   "cell_type": "markdown",
   "metadata": {},
   "source": [
    "## Data Visualization"
   ]
  },
  {
   "cell_type": "code",
   "execution_count": 11,
   "metadata": {},
   "outputs": [],
   "source": [
    "%matplotlib inline\n",
    "import matplotlib.pyplot as plt\n",
    "import seaborn as sns"
   ]
  },
  {
   "cell_type": "code",
   "execution_count": 12,
   "metadata": {},
   "outputs": [
    {
     "data": {
      "image/png": "[encoded data removed]",
      "text/plain": [
       "<Figure size 432x288 with 1 Axes>"
      ]
     },
     "metadata": {
      "needs_background": "light"
     },
     "output_type": "display_data"
    }
   ],
   "source": [
    "sns.scatterplot(df['goals'], df['powerPlayGoals'], hue=df['win'])\n",
    "plt.title('Wins based on goals and power play goals')\n",
    "plt.xlabel('goals')\n",
    "plt.ylabel('powerPlayGoals')\n",
    "plt.show()"
   ]
  },
  {
   "cell_type": "markdown",
   "metadata": {},
   "source": [
    "By plotting goals vs power play goals and highlighting wins, it can be seen that a team that scores 3 power play goals or more will win the game. In a typical game, it is not very common to reach 3 power goals, so using the number of power play goals scaored would not be a good predictor of whether or not a team will win the game. Up to three power play goals, the team also has to score even strength goals in order to win the match. This makes sense since even strength goals are a good indicator of the team's skill as opposed to its abilities during power plays. As 4 goals is typically a higher amount in hockey, regardless of whether the goals are even strength or power play, it is likely the team will win as many opponent teams will not be able to catch up to 4 goals.  "
   ]
  },
  {
   "cell_type": "code",
   "execution_count": 13,
   "metadata": {},
   "outputs": [
    {
     "data": {
      "image/png": "[encoded data removed]",
      "text/plain": [
       "<Figure size 432x288 with 1 Axes>"
      ]
     },
     "metadata": {
      "needs_background": "light"
     },
     "output_type": "display_data"
    }
   ],
   "source": [
    "sns.scatterplot(df['powerPlayOpportunities'], df['powerPlayGoals'], hue=df['win'])\n",
    "plt.title('Wins based on power play opportunities and goals')\n",
    "plt.xlabel('powerPlayOpportunities')\n",
    "plt.ylabel('powerPlayGoals')\n",
    "plt.show()"
   ]
  },
  {
   "cell_type": "markdown",
   "metadata": {},
   "source": [
    "By plotting power play opportunities to power play goals, we can see the necessary amount of power play goals a team needs to score in order to win a game. Power plays are usually seen as an opportunity for a team to pull ahead in a game and increases the chances of winning. However, as seen through this visualization, teams would have to score at least two power play goals in order to secure a win, meaning they would have to gain at least two or more power play opportunities. "
   ]
  },
  {
   "cell_type": "code",
   "execution_count": 14,
   "metadata": {},
   "outputs": [
    {
     "data": {
      "text/plain": [
       "Text(0.5, 1.0, 'Faceoff Win Distribution versus Game Wins')"
      ]
     },
     "execution_count": 14,
     "metadata": {},
     "output_type": "execute_result"
    },
    {
     "data": {
      "image/png": "[encoded data removed]",
      "text/plain": [
       "<Figure size 432x288 with 1 Axes>"
      ]
     },
     "metadata": {
      "needs_background": "light"
     },
     "output_type": "display_data"
    }
   ],
   "source": [
    "df.pivot(columns='win').faceOffWinPercentage.plot(kind = 'hist', stacked=True)\n",
    "plt.title(\"Faceoff Win Distribution versus Game Wins\")"
   ]
  },
  {
   "cell_type": "markdown",
   "metadata": {},
   "source": [
    "Regardless of whether or not a team won or lost, the distribution for faceoff wins is similar, with most teams at between 50% to 60% faceoff wins. This shows that faceoff wins does not necessarily predict whether or not a team will win a match. As faceoffs are typically done by the same players each match, a team's faceoff stats will generally be similar game to game, but the outcome of the game will be dictated by the game plays and skill levels. However, we can assume that teams with a better playoff win percentage would have a better win record, as seen by the greater proportion of winning teams with higher faceoff win percentages. With more face off wins, the team have an advantage because they start each play with possession of the puck, giving them the opportunity to start attacking. But the team's skill dictates whether or not they stay in possession of the puck and are able to capitalize on attacking opportunities to score goals. "
   ]
  },
  {
   "cell_type": "code",
   "execution_count": 15,
   "metadata": {},
   "outputs": [
    {
     "data": {
      "text/plain": [
       "Text(0.5, 1.0, 'Shot Distribution versus game Wins')"
      ]
     },
     "execution_count": 15,
     "metadata": {},
     "output_type": "execute_result"
    },
    {
     "data": {
      "image/png": "[encoded data removed]",
      "text/plain": [
       "<Figure size 432x288 with 1 Axes>"
      ]
     },
     "metadata": {
      "needs_background": "light"
     },
     "output_type": "display_data"
    }
   ],
   "source": [
    "df.pivot(columns='win').shots.plot(kind = 'hist', stacked=True)\n",
    "plt.title(\"Shot Distribution versus game Wins\")"
   ]
  },
  {
   "cell_type": "markdown",
   "metadata": {},
   "source": [
    "The shot distribution for winning and losing teams are similar (most games are between 25 to 30 shots). The main difference is that more winning teams stay within this range, hinting at more players making shots more consistent and the quality of those players. In games with more or less shots, the outcome is a bit more random, indicating games that are with more unusual events (very little/many attacking plays, mistakes, fouls, etc). This plot reveals the consistency aspect of a team's players since teams with higher skilled players would be able to make a similar number of shots game to game versus teams with lower skilled players. "
   ]
  }
 ],
 "metadata": {
  "kernelspec": {
   "display_name": "Python 3",
   "language": "python",
   "name": "python3"
  },
  "language_info": {
   "codemirror_mode": {
    "name": "ipython",
    "version": 3
   },
   "file_extension": ".py",
   "mimetype": "text/x-python",
   "name": "python",
   "nbconvert_exporter": "python",
   "pygments_lexer": "ipython3",
   "version": "3.7.4"
  }
 },
 "nbformat": 4,
 "nbformat_minor": 4
}
